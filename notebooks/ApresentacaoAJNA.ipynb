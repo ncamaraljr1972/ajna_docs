{
 "cells": [
  {
   "cell_type": "code",
   "execution_count": null,
   "metadata": {
    "slideshow": {
     "slide_type": "skip"
    }
   },
   "outputs": [],
   "source": [
    "# Linha de comando para servir no iexplore ou exportar PDF ou letras menores\n",
    "# jupyter nbconvert --to slides ApresentacaoAJNA.ipynb --post serve"
   ]
  },
  {
   "cell_type": "markdown",
   "metadata": {
    "slideshow": {
     "slide_type": "slide"
    }
   },
   "source": [
    "## <center>Sistema AJNA</center>\n",
    "### Mineração de Dados, Visão Computacional e Aprendizagem de Máquina <br>aplicados  à Vigilância e Repressão Aduaneiras\n"
   ]
  },
  {
   "cell_type": "markdown",
   "metadata": {
    "slideshow": {
     "slide_type": "subslide"
    }
   },
   "source": [
    "* Histórico\n",
    "* Panorama\n",
    "* Arquitetura\n",
    " * Interfaces de Usuário\n",
    " * Serviços de integração\n",
    " * \"Inteligência\"\n",
    "* Colaborando\n",
    "* Para saber mais/referências"
   ]
  },
  {
   "cell_type": "markdown",
   "metadata": {
    "slideshow": {
     "slide_type": "slide"
    }
   },
   "source": [
    "# Histórico AJNA"
   ]
  },
  {
   "cell_type": "markdown",
   "metadata": {
    "slideshow": {
     "slide_type": "subslide"
    }
   },
   "source": [
    "* Porto de Santos: maior porto da América Latina e um dos mais movimentados do hemisfério sul.\n",
    "* 25% de todas as cargas importadas e exportadas\n",
    "* 5.000 contêineres por dia\n",
    " * Mais de 15 pátios de contêineres\n",
    " * Dezenas de terminais privativos especializados\n",
    " * Várias dezenas de Redex\n",
    " * 14 km de pier\n",
    " * 4 cidades, 60 km de rotas"
   ]
  },
  {
   "cell_type": "markdown",
   "metadata": {
    "slideshow": {
     "slide_type": "fragment"
    }
   },
   "source": [
    "* Uma dezena de Servidores da Alfândega de Santos"
   ]
  },
  {
   "cell_type": "markdown",
   "metadata": {
    "slideshow": {
     "slide_type": "slide"
    }
   },
   "source": [
    "## Tecnologia ao resgate - Fase 1"
   ]
  },
  {
   "cell_type": "markdown",
   "metadata": {
    "slideshow": {
     "slide_type": "subslide"
    }
   },
   "source": [
    "* COV - Central de Operações e Vigilância\n",
    " * 1 estação de acesso por terminal\n",
    " * Dificuldades de integração e comunicação\n",
    "* COV - melhorias\n",
    " * Regulamentação ALFSTS\n",
    " * Sistema integrado ABTRA\n",
    " * 15 pátios diferentes\n",
    " * 3.000 câmeras\n",
    " * Área pública\n",
    " * Pontos de OCR\n",
    " * 15 escâneres de contêiner + escâneres de volume\n",
    " * gestão de posicionamento de câmeras(funções especializadas)"
   ]
  },
  {
   "cell_type": "markdown",
   "metadata": {
    "slideshow": {
     "slide_type": "subslide"
    }
   },
   "source": [
    "# Tecnologia ao resgate - Fase 1\n",
    "## Problemas"
   ]
  },
  {
   "cell_type": "markdown",
   "metadata": {
    "slideshow": {
     "slide_type": "subslide"
    }
   },
   "source": [
    "* 3.000 imagens/dia para analisar\n",
    "* Dificuldade de encontrar imagens\n",
    "* Vários sistemas para completar análise\n",
    "* necessidade de reter conhecimento\n",
    "* necessidade de padronizar métodos\n",
    "* dificuldade de treinar e manter mão de obra"
   ]
  },
  {
   "cell_type": "markdown",
   "metadata": {
    "slideshow": {
     "slide_type": "slide"
    }
   },
   "source": [
    "# Solução: Sistema AJNA -> COV 2.0\n",
    "## Premissas"
   ]
  },
  {
   "cell_type": "markdown",
   "metadata": {
    "slideshow": {
     "slide_type": "subslide"
    }
   },
   "source": [
    "<img src=\"grafico.jpg\" width=\"1000\" align=\"center\" />"
   ]
  },
  {
   "cell_type": "markdown",
   "metadata": {
    "slideshow": {
     "slide_type": "subslide"
    }
   },
   "source": [
    "* Análise por algoritmos de 100% das imagens\n",
    "* Algoritmos \"plugáveis\"\n",
    "* Reunir dados e imagens em um único BD\n",
    "* Acesso web único nacional via pesquisa\n",
    "* Integrações e auditorias em background\n",
    "\n",
    "Obs: foco inicial escaneamento, mas possibilidade de uso em vídeo e outras imagens. Há projetos de OCR e monitoramento de rotas, por exemplo, na RFB.\n",
    "\n",
    "Projeto formalizado e apresentado no 16º Premio de Criatividade e Inovação da RFB - 2017\n",
    "\n",
    "http://esaf.fazenda.gov.br/assuntos/pesquisas-e-premios/premio-rfb/16o-premio-de-criatividade-e-inovacao-da-rfb-2017/resultado-do-16o-premio-de-criatividade-e-inovacao-da-rfb"
   ]
  },
  {
   "cell_type": "markdown",
   "metadata": {
    "slideshow": {
     "slide_type": "slide"
    }
   },
   "source": [
    "# Verificar imagens é importante??"
   ]
  },
  {
   "cell_type": "markdown",
   "metadata": {
    "slideshow": {
     "slide_type": "subslide"
    }
   },
   "source": [
    "<img src=\"bilete.jpg\" width=\"1200\" align=\"center\" />"
   ]
  },
  {
   "cell_type": "markdown",
   "metadata": {
    "slideshow": {
     "slide_type": "subslide"
    }
   },
   "source": [
    "<img src=\"armas.png\" width=\"1200\" align=\"center\" />"
   ]
  },
  {
   "cell_type": "markdown",
   "metadata": {
    "slideshow": {
     "slide_type": "slide"
    }
   },
   "source": [
    "## Ferramentas utilizadas"
   ]
  },
  {
   "cell_type": "markdown",
   "metadata": {
    "slideshow": {
     "slide_type": "fragment"
    }
   },
   "source": [
    "![Standing in the Shoulders of Giants](giants.jpg)"
   ]
  },
  {
   "cell_type": "markdown",
   "metadata": {
    "slideshow": {
     "slide_type": "subslide"
    }
   },
   "source": [
    "![python_stack](python_stack.jpg)"
   ]
  },
  {
   "cell_type": "markdown",
   "metadata": {
    "slideshow": {
     "slide_type": "slide"
    }
   },
   "source": [
    "# AJNA - contexto"
   ]
  },
  {
   "cell_type": "markdown",
   "metadata": {
    "slideshow": {
     "slide_type": "subslide"
    }
   },
   "source": [
    "<img src=\"ciclodevida.png\" alt=\"ciclodevida\" width=\"1000px\" height=\"700px\"/>"
   ]
  },
  {
   "cell_type": "markdown",
   "metadata": {
    "slideshow": {
     "slide_type": "subslide"
    }
   },
   "source": [
    "O AJNA é, antes de tudo, um projeto de Data Science/Machine Learning. Mas ao invés de entregar um resultado \"único\", entrega um sistema que fará sistematicamente e de forma cíclica o ciclo de DS.\n",
    "\n",
    "1. Entender o negócio\n",
    "* Adquirir Dados (ETL)\n",
    "* Limpar/Analisar/Integrar Dados (ETL)\n",
    "* Modelar algoritmos (ML/DS)\n",
    "* Implantar algoritmos\n",
    "* Apresentar resultados\n",
    "\n"
   ]
  },
  {
   "cell_type": "markdown",
   "metadata": {
    "slideshow": {
     "slide_type": "subslide"
    }
   },
   "source": [
    "<img src=\"hugo.jpg\" width=\"800\" align=\"center\" />"
   ]
  },
  {
   "cell_type": "markdown",
   "metadata": {
    "slideshow": {
     "slide_type": "subslide"
    }
   },
   "source": [
    "In many ways, machine learning is the primary means by which data science manifests itself to the broader world. Machine learning is where these computational and algorithmic skills of data science meet the statistical thinking of data science, and the result is a collection of approaches to inference and data exploration that are not about effective theory so much as effective computation.\n",
    "\n",
    "Jake Vanderplas - coredev sklearn e scipy"
   ]
  },
  {
   "cell_type": "markdown",
   "metadata": {
    "slideshow": {
     "slide_type": "subslide"
    }
   },
   "source": [
    "![datascience](datascience.jpg)"
   ]
  },
  {
   "cell_type": "markdown",
   "metadata": {
    "slideshow": {
     "slide_type": "subslide"
    }
   },
   "source": [
    "<img src=\"trends.jpg\" alt=\"trends\" width=\"900px\"/>"
   ]
  },
  {
   "cell_type": "markdown",
   "metadata": {
    "slideshow": {
     "slide_type": "subslide"
    }
   },
   "source": [
    "<img src=\"trends2.jpg\" alt=\"trends\" width=\"900px\"/>"
   ]
  },
  {
   "cell_type": "markdown",
   "metadata": {
    "slideshow": {
     "slide_type": "subslide"
    }
   },
   "source": [
    "<img src=\"python-r.jpg\" alt=\"trends\" width=\"900px\"/>"
   ]
  },
  {
   "cell_type": "markdown",
   "metadata": {
    "slideshow": {
     "slide_type": "subslide"
    }
   },
   "source": [
    "<img src=\"python-growth.png\" alt=\"trends\" width=\"900px\"/>"
   ]
  },
  {
   "cell_type": "markdown",
   "metadata": {
    "slideshow": {
     "slide_type": "slide"
    }
   },
   "source": [
    "# Algoritmos? Que algoritmos?\n",
    "\n",
    "<img src=\"travolta-meme.gif\" alt=\"pulpfiction\" width=\"600px\" align=\"center\" />"
   ]
  },
  {
   "cell_type": "markdown",
   "metadata": {
    "slideshow": {
     "slide_type": "subslide"
    }
   },
   "source": [
    "## Algoritmos E Dados *devem* responder às perguntas da fase 1 - *negócio*\n",
    "\n",
    "## Do projeto original:\n",
    "\n",
    "* São objetivos específicos do sistema:\n",
    " * Classificação, predição e varredura de padrões para alerta de anomalias ou possíveis ameaças\n",
    " * Controle automático por IA de imagens de vigilância e escaneamento \n",
    " * Utilizar tecnologia e métodos para exercer a vigilância aduaneira, otimizando resultados\n",
    " * Aumentar percepção de risco na fraude"
   ]
  },
  {
   "cell_type": "markdown",
   "metadata": {
    "slideshow": {
     "slide_type": "subslide"
    }
   },
   "source": [
    " * Atuar de modo transversal e diversificado na investigação e descoberta de fraudes\n",
    " * Atuar de forma ágil e diversificada, desde antes da descarga até a entrega, mapeando tentativas de enganar os demais controles da Aduana\n",
    " * Permitir “fiscalização 100%”, através de agentes inteligentes automáticos, de diversos processos aduaneiros  \n",
    " * Subsidiar e complementar o processo de análise de risco, diminuindo a necessidade de intervenção e parada do fluxo normal da carga (diminuição das aberturas e verificações físicas SEM resultado)\n",
    " * DIMINUIÇÃO do total de verificações físicas, e ao mesmo tempo INCREMENTO percentual das verificações físicas com resultado.\n",
    " * Resposta às demandas da sociedade."
   ]
  },
  {
   "cell_type": "markdown",
   "metadata": {
    "slideshow": {
     "slide_type": "subslide"
    }
   },
   "source": [
    "O Sistema deve cumprir objetivos cumulativos e incrementais(...) depois começa a “responder perguntas” (...) cada vez mais complicadas\n",
    "\n",
    "- Construir um Banco de Dados de imagens\n",
    "- Importar automaticamente e de forma periódico imagens e informações\n",
    "- Aplicar algoritmos e comparação entre fontes\n",
    "\n",
    "<img src=\"seneca.jpg\" alt=\"Seneca\" width=\"600px\" align=\"center\" />"
   ]
  },
  {
   "cell_type": "markdown",
   "metadata": {
    "slideshow": {
     "slide_type": "subslide"
    }
   },
   "source": [
    "Ex. Perguntas:\n",
    "- Todos os contêineres programados para “escaneamento” possuem imagem disponível?\n",
    "- Treinar algoritmo para detecção de tipo de contêiner\n",
    "- Treinar rede para detecção de bordas das imagens de contêiner\n",
    "- Treinar algoritmo simples para detecção de contêiner vazio ou cheio\n",
    "- Treinar algoritmo mais sofisticado para detecção de contêiner vazio com anomalia de interesse fiscal\n",
    "- Treinar algoritmo para predizer o peso do contêiner de acordo com a imagem\n",
    "- Comparar com a pesagem de balança e a declarada\n",
    "- Utilizar algoritmo para predizer a probabilidade de compatibilidade com as NCMs declaradas\n",
    "- Treinar algoritmo de indexação para procura de imagens similares\n",
    "- Produzir indexação que permita variação posicional (Semântica/baseado em contexto)"
   ]
  },
  {
   "cell_type": "markdown",
   "metadata": {
    "slideshow": {
     "slide_type": "subslide"
    }
   },
   "source": [
    "<img src=\"camarao.jpg\" alt=\"Onda Leva\" width=\"600px\" align=\"center\" />"
   ]
  },
  {
   "cell_type": "markdown",
   "metadata": {
    "slideshow": {
     "slide_type": "slide"
    }
   },
   "source": [
    "# AJNA - arquitetura (microserviços)"
   ]
  },
  {
   "cell_type": "markdown",
   "metadata": {
    "slideshow": {
     "slide_type": "subslide"
    }
   },
   "source": [
    "<img src=\"Arquitetura.jpg\" width=\"1000\" />"
   ]
  },
  {
   "cell_type": "markdown",
   "metadata": {
    "slideshow": {
     "slide_type": "slide"
    }
   },
   "source": [
    "# AJNA - arquitetura na prática"
   ]
  },
  {
   "cell_type": "markdown",
   "metadata": {
    "slideshow": {
     "slide_type": "subslide"
    }
   },
   "source": [
    "## AJNA - Módulo Avatar\n",
    "\n",
    "### Fase 2 - coleta de dados\n",
    "* Possibilidade de várias versões - ambiente \"externo\" - pode ser desenvolvido pelo forneceder de imagens - auditorias prévias\n",
    "* Interface: configuração de fontes de imagens\n",
    "* Interface: Monitoramento básico\n",
    "* Serviços\n",
    " * Importa imagens\n",
    " * Exporta lotes para BSON"
   ]
  },
  {
   "cell_type": "markdown",
   "metadata": {
    "slideshow": {
     "slide_type": "subslide"
    }
   },
   "source": [
    "## AJNA - módulo Virasana (Postura do Arqueiro/Herói)\n",
    "\n",
    "## Fase 2 e 3 - tratamento de dados\n",
    "\n",
    "* Servidor de imagens (Flask)\n",
    " * Interativo Usuário\n",
    " * Endpoint serializa imagem\n",
    " * REST também para metadata"
   ]
  },
  {
   "cell_type": "markdown",
   "metadata": {
    "slideshow": {
     "slide_type": "subslide"
    }
   },
   "source": [
    "## AJNA - módulo Virasana (Postura do Arqueiro/Herói)\n",
    "\n",
    "* Serviços (Celery)\n",
    " * Importa arquivos BSON e grava em GridFS (MongoDB)\n",
    " * Importa dados \"raw\" do Bhadrasana\n",
    " * Heurísticas para vincular dados a imagens\n",
    " * Importa predições PADMA\n",
    " * Celery + Redis para tarefas da interface em \"background\""
   ]
  },
  {
   "cell_type": "markdown",
   "metadata": {
    "slideshow": {
     "slide_type": "subslide"
    }
   },
   "source": [
    "## AJNA - módulo Bhadrasana (Postura do Sentinela)\n",
    "\n",
    "* Servidor (Flask)\n",
    " * Importação manual de bases de dados\n",
    " * Pré-tratamento, normalização, gerenciamento\n",
    " * Navegação, filtragem\n",
    " * Dados são mantidos \"originais\"\n",
    "* Serviços (Celery + Redis)\n",
    " * Tarefas demoradas da interface\n",
    " * Scraping e acesso a sistemas automático (planejado)"
   ]
  },
  {
   "cell_type": "markdown",
   "metadata": {
    "slideshow": {
     "slide_type": "subslide"
    }
   },
   "source": [
    "## AJNA - módulo Padma (Busca da verdade)\n",
    "\n",
    "* Servidor de modelos (Redis + Threads)\n",
    " * Carrega modelos serializados na inicialização\n",
    " * Recebe modelo e imagem, retorna predições\n",
    "* Serviços REST\n",
    " * Autentica Usuário\n",
    " * Recebe imagem e repassa para Redis\n",
    " * Aguarda até retorno ou timeout\n",
    " * Retorna JSON com resultado"
   ]
  },
  {
   "cell_type": "markdown",
   "metadata": {
    "slideshow": {
     "slide_type": "subslide"
    }
   },
   "source": [
    "## AJNA - módulo Padma (Busca da verdade)\n",
    "\n",
    "* Treinamento de modelos\n",
    " * PRECISA de dados e imagens (Base Virasana)\n",
    " * À parte, interativo\n",
    " * Se modelo novo, necessita inserção classe no Servidor\n",
    " * Se apenas treinamento novo, basta gravar dados novos no diretório"
   ]
  },
  {
   "cell_type": "markdown",
   "metadata": {
    "slideshow": {
     "slide_type": "slide"
    }
   },
   "source": [
    "# AJNA - Treinamento - algoritmos"
   ]
  },
  {
   "cell_type": "markdown",
   "metadata": {
    "slideshow": {
     "slide_type": "subslide"
    }
   },
   "source": [
    "![formiga](formiga.jpg)"
   ]
  },
  {
   "cell_type": "markdown",
   "metadata": {
    "slideshow": {
     "slide_type": "subslide"
    }
   },
   "source": [
    "<img src=\"espiral.gif\" width=\"600\" />"
   ]
  },
  {
   "cell_type": "markdown",
   "metadata": {
    "slideshow": {
     "slide_type": "subslide"
    }
   },
   "source": [
    "# Primeiro passo: encontrar o contêiner\n",
    "\n",
    "### TensorFlow Object Detection API\n",
    "\n",
    "https://github.com/IvanBrasilico/models/tree/master/research/object_detection"
   ]
  },
  {
   "cell_type": "markdown",
   "metadata": {
    "slideshow": {
     "slide_type": "subslide"
    }
   },
   "source": [
    "![kites_detections_output.jpg](kites_detections_output.jpg)"
   ]
  },
  {
   "cell_type": "markdown",
   "metadata": {
    "slideshow": {
     "slide_type": "subslide"
    }
   },
   "source": [
    "![objdetect1.png](objdetect1.png)"
   ]
  },
  {
   "cell_type": "markdown",
   "metadata": {
    "slideshow": {
     "slide_type": "subslide"
    }
   },
   "source": [
    "![objdetect2.png](objdetect2.png)"
   ]
  },
  {
   "cell_type": "markdown",
   "metadata": {
    "slideshow": {
     "slide_type": "subslide"
    }
   },
   "source": [
    "![objdetect3.png](objdetect3.png)"
   ]
  },
  {
   "cell_type": "markdown",
   "metadata": {
    "slideshow": {
     "slide_type": "slide"
    }
   },
   "source": [
    "# AJNA - treinamento - outros exemplos\n",
    "\n",
    "Treino no Módulo PADMA, diretório gym\n",
    "\n",
    "Publicação no diretório models do PADMA\n",
    "\n",
    "* Vazio2.0\n",
    "* Peso2.0\n",
    "* Buscador-AutoEncoder2.0\n",
    "\n",
    "IMAGENS -> DADOS -> EXPLORAÇÃO -> MODELOS -> \"INTELIGÊNCIA\""
   ]
  },
  {
   "cell_type": "markdown",
   "metadata": {
    "slideshow": {
     "slide_type": "subslide"
    }
   },
   "source": [
    "![Genius](genius.jpg)"
   ]
  },
  {
   "cell_type": "markdown",
   "metadata": {
    "slideshow": {
     "slide_type": "slide"
    }
   },
   "source": [
    "# AJNA - telas do sistema"
   ]
  },
  {
   "cell_type": "markdown",
   "metadata": {
    "slideshow": {
     "slide_type": "subslide"
    }
   },
   "source": [
    "![tela1](tela1.jpg)"
   ]
  },
  {
   "cell_type": "markdown",
   "metadata": {
    "slideshow": {
     "slide_type": "subslide"
    }
   },
   "source": [
    "![tela2](tela2.jpg)"
   ]
  },
  {
   "cell_type": "markdown",
   "metadata": {
    "slideshow": {
     "slide_type": "subslide"
    }
   },
   "source": [
    "# AJNA - telas - resumo\n",
    "![tela3](tela3.jpg)"
   ]
  },
  {
   "cell_type": "markdown",
   "metadata": {
    "slideshow": {
     "slide_type": "subslide"
    }
   },
   "source": [
    "# AJNA - telas - imagens similares\n",
    "![tela4](tela4.jpg)"
   ]
  },
  {
   "cell_type": "markdown",
   "metadata": {
    "slideshow": {
     "slide_type": "subslide"
    }
   },
   "source": [
    "# AJNA - telas - imagens similares\n",
    "![similar](similar.png)"
   ]
  },
  {
   "cell_type": "markdown",
   "metadata": {
    "slideshow": {
     "slide_type": "subslide"
    }
   },
   "source": [
    "# AJNA - telas - imagens similares\n",
    "![similar](similar2.png)"
   ]
  },
  {
   "cell_type": "markdown",
   "metadata": {
    "slideshow": {
     "slide_type": "slide"
    }
   },
   "source": [
    "# AJNA - qualidade\n",
    "\n",
    "* TDD - CI - LINT\n",
    "* pytest - flask-testing\n",
    "* flake com extensões (docstrings, radon, mypy)\n",
    "* codecov - bandit - sphynx\n",
    "* tox - setup.py\n",
    "\n",
    "![codecov](codecov.jpg)\n"
   ]
  },
  {
   "cell_type": "markdown",
   "metadata": {
    "slideshow": {
     "slide_type": "subslide"
    }
   },
   "source": [
    "# AJNA - qualidade\n",
    "\n",
    "![codecov2](codecov2.jpg)\n",
    "\n",
    "\n"
   ]
  },
  {
   "cell_type": "markdown",
   "metadata": {
    "slideshow": {
     "slide_type": "subslide"
    }
   },
   "source": [
    "# AJNA - qualidade\n",
    "\n",
    "![codecov3](codecov3.jpg)\n",
    "\n",
    "\n"
   ]
  },
  {
   "cell_type": "markdown",
   "metadata": {
    "slideshow": {
     "slide_type": "subslide"
    }
   },
   "source": [
    "# AJNA - qualidade - documentação integrada\n",
    "\n",
    "![sphynx1](sphynx1.jpg)"
   ]
  },
  {
   "cell_type": "markdown",
   "metadata": {
    "slideshow": {
     "slide_type": "subslide"
    }
   },
   "source": [
    "# AJNA - qualidade - documentação integrada\n",
    "\n",
    "![sphynx2](sphynx2.jpg)"
   ]
  },
  {
   "cell_type": "markdown",
   "metadata": {
    "slideshow": {
     "slide_type": "subslide"
    }
   },
   "source": [
    "# AJNA - qualidade - documentação integrada\n",
    "\n",
    "![sphynx3](sphynx3.jpg)"
   ]
  },
  {
   "cell_type": "markdown",
   "metadata": {
    "slideshow": {
     "slide_type": "slide"
    }
   },
   "source": [
    "# AJNA - colaborando\n",
    "\n",
    "### Geral (testes, telas, pentests)\n",
    "https://github.com/IvanBrasilico/ajna_docs\n",
    "\n",
    "Instalar Anaconda"
   ]
  },
  {
   "cell_type": "markdown",
   "metadata": {
    "slideshow": {
     "slide_type": "subslide"
    }
   },
   "source": [
    "# AJNA - colaborando\n",
    "\n",
    "### Algoritmos\n",
    "https://github.com/IvanBrasilico/padma/tree/master/padma/gym\n",
    "* Utilizar extrações para diretório\n",
    " * Google Drive - Google Colab - FloydHub\n",
    " * Receita Drive\n",
    "* Acesso a banco de dados MongoDB (imagens)\n",
    " * Gerar a própria extração\n",
    " * Rodar na estação (sklearn)"
   ]
  },
  {
   "cell_type": "markdown",
   "metadata": {
    "slideshow": {
     "slide_type": "slide"
    }
   },
   "source": [
    "# AJNA - roadmap\n",
    "\n",
    "* Em fase de publicação/homologação aguardando Servidor Staging\n",
    "* Pronto para criação de Avatares em outras fontes de dados\n",
    "* Nos algoritmos, trabalhar com setores usuários relatórios a fornecer e algoritmos a priorizar"
   ]
  },
  {
   "cell_type": "markdown",
   "metadata": {
    "slideshow": {
     "slide_type": "slide"
    }
   },
   "source": [
    "# AJNA - roadmap - aplicações imediatas\n",
    "\n",
    "* Pré-despacho/vigilância/análise de risco\n",
    "* Despacho\n",
    "* Procedimentos especiais\n",
    "* Regimes e trânsito\n",
    "* Remessa postal\n",
    "* Revisão aduaneira - Auditoria (8 x 16 motores - peso)\n",
    "* Tráfico de armas, drogas, etc"
   ]
  },
  {
   "cell_type": "markdown",
   "metadata": {
    "slideshow": {
     "slide_type": "slide"
    }
   },
   "source": [
    "## Para saber mais\n",
    "\n",
    "https://br.udacity.com/course/intro-to-machine-learning--ud120\n",
    "\n",
    "https://br.udacity.com/course/deep-learning--ud730\n",
    "\n",
    "https://www.coursera.org/learn/machine-learning\n",
    "\n",
    "https://www.coursera.org/learn/neural-networks-deep-learning\n",
    "\n",
    "https://www.coursera.org/specializations/deep-learning\n",
    "\n",
    "https://www.coursera.org/specializations/aml\n",
    "\n"
   ]
  },
  {
   "cell_type": "markdown",
   "metadata": {
    "slideshow": {
     "slide_type": "subslide"
    }
   },
   "source": [
    "## Para saber mais\n",
    "\n",
    "Python Microservices Development\n",
    "\n",
    "https://www.packtpub.com/web-development/python-microservices-development\n",
    "\n",
    "http://pythonclub.com.br/what-the-flask-pt-1-introducao-ao-desenvolvimento-web-com-python.html\n",
    "\n",
    "Expert Python Programming - Second Edition\n",
    "\n",
    "Fluent Python\n",
    "\n",
    "http://shop.oreilly.com/product/0636920032519.do\n",
    "\n",
    "Hands on machine learning with scikit-learn and tensorflow"
   ]
  },
  {
   "cell_type": "markdown",
   "metadata": {
    "slideshow": {
     "slide_type": "subslide"
    }
   },
   "source": [
    "## Para saber mais\n",
    "\n",
    "https://medium.com/towards-data-science/how-to-train-your-own-object-detector-with-tensorflows-object-detector-api-bec72ecfe1d9\n",
    "\n",
    "https://arxiv.org/pdf/1511.06434.pdf\n",
    "\n",
    "https://arxiv.org/pdf/1708.00838v1.pdf\n",
    "\n",
    "https://arxiv.org/abs/1004.5370 \n",
    "\n",
    "https://arxiv.org/pdf/1406.2661.pdf\n",
    "\n",
    "https://arxiv.org/pdf/1606.03498v1.pdf \n",
    "\n",
    "https://arxiv.org/pdf/1606.02228.pdf \n",
    "\n",
    "https://arxiv.org/pdf/1409.1556.pdf \n",
    "\n",
    "http://doc.openalpr.com/accuracy_improvements.html#training-ocr "
   ]
  },
  {
   "cell_type": "markdown",
   "metadata": {
    "slideshow": {
     "slide_type": "slide"
    }
   },
   "source": [
    "# Recado final\n",
    "\n",
    "<img alt=\"Dados são petróleo\" src=\"petroleo.jpg\" width=900 />"
   ]
  },
  {
   "cell_type": "markdown",
   "metadata": {
    "slideshow": {
     "slide_type": "subslide"
    }
   },
   "source": [
    "![IA é a nova eletricidade](eletricidade.png)"
   ]
  },
  {
   "cell_type": "markdown",
   "metadata": {
    "slideshow": {
     "slide_type": "slide"
    }
   },
   "source": [
    "# Para debate\n",
    "\n",
    "* Procedimentos x Sistemas\n",
    "* Agrega - Habilita - nemnem\n",
    "* Pareto - lei da potência\n",
    "* Árvore x floresta - noteiras, coligadas, etc\n",
    "* Revolução x Evolução\n",
    "* 3.0 x 4.0 - redefine robôs\n",
    "* Dados x Inteligência\n"
   ]
  }
 ],
 "metadata": {
  "celltoolbar": "Slideshow",
  "kernelspec": {
   "display_name": "Python 3",
   "language": "python",
   "name": "python3"
  },
  "language_info": {
   "codemirror_mode": {
    "name": "ipython",
    "version": 3
   },
   "file_extension": ".py",
   "mimetype": "text/x-python",
   "name": "python",
   "nbconvert_exporter": "python",
   "pygments_lexer": "ipython3",
   "version": "3.6.5"
  }
 },
 "nbformat": 4,
 "nbformat_minor": 2
}
