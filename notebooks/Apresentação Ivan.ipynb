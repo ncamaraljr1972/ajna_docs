{
 "cells": [
  {
   "cell_type": "markdown",
   "metadata": {
    "slideshow": {
     "slide_type": "slide"
    }
   },
   "source": [
    "# Ivan da Silva Brasílico\n",
    "\n",
    "* Ciências Sociais - Unicamp 1991\n",
    "* Análise de Sistemas - FATEC 1994\n",
    "* Gestão de Projetos - Uniesp\n",
    "* Administração e Logística - FATEC 2001\n",
    "* Analista de Finanças e Controle - CGU 2003\n",
    "* Pós Graduação em Gestão de Redes - UFLA 2004\n",
    "* Auditor da Receita Federal - RFB 2006\n",
    "* Machine Learning - Andrew Ng e Deep Learning - Geoffrey Hinton - Coursera\n",
    "* Text Mining e Search Engines - University of Illinois - Coursera\n",
    "* Deep Learning NanoDegree e Artificial Inteligence NanoDegree - Udacity\n",
    "* Pós Graduação em Data Mining RFB - FIA - Cursando"
   ]
  },
  {
   "cell_type": "markdown",
   "metadata": {
    "slideshow": {
     "slide_type": "slide"
    }
   },
   "source": [
    "# Ivan da Silva Brasílico\n",
    "\n",
    "* Programador de Jogos Z80 Assembler + MS Basic\n",
    "* Desenvolvimento Sistemas Gestão Comercial - CLIPPER\n",
    "* SERPRO\n",
    " * Gestão de Rede Local e Suporte\n",
    "* MARIMEX\n",
    " * Desenvolvedor WMS e rede de coletores de dados - DELPHI/SQL Server\n",
    " * Firewall, proxy e balanceamento de links - Conectiva Linux"
   ]
  },
  {
   "cell_type": "markdown",
   "metadata": {
    "slideshow": {
     "slide_type": "subslide"
    }
   },
   "source": [
    "# Ivan da Silva Brasílico\n",
    "\n",
    "* CGU\n",
    " * Sistema sorteio de municípios - Delphi/MySQL\n",
    " * Sistema de controle de procedimentos e apurações especiais - PHP/MySQL\n",
    " * Reformulação de Redes - RedHat Linux, LDAP, Samba, Squid, IPTables, Bacula, Snort\n",
    "* Receita Federal\n",
    " * Análise de Risco\n",
    " * Sistema Laudos - Java\n",
    " * COV\n",
    " * Sistema AJNA - Python"
   ]
  }
 ],
 "metadata": {
  "celltoolbar": "Slideshow",
  "kernelspec": {
   "display_name": "Python 3",
   "language": "python",
   "name": "python3"
  },
  "language_info": {
   "codemirror_mode": {
    "name": "ipython",
    "version": 3
   },
   "file_extension": ".py",
   "mimetype": "text/x-python",
   "name": "python",
   "nbconvert_exporter": "python",
   "pygments_lexer": "ipython3",
   "version": "3.6.4"
  }
 },
 "nbformat": 4,
 "nbformat_minor": 2
}
